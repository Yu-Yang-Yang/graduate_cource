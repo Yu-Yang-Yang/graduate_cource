{
 "cells": [
  {
   "cell_type": "code",
   "execution_count": 1,
   "metadata": {},
   "outputs": [],
   "source": [
    "from scipy import optimize\n",
    "import cvxopt\n",
    "import matplotlib.pyplot as plt\n",
    "import numpy as np\n",
    "import sympy\n",
    "sympy.init_printing()"
   ]
  },
  {
   "cell_type": "code",
   "execution_count": 3,
   "metadata": {},
   "outputs": [
    {
     "data": {
      "image/png": "[encoded data removed]",
      "text/latex": [
       "$$\\frac{2^{\\frac{2}{3}}}{2 \\sqrt[3]{\\pi}}$$"
      ],
      "text/plain": [
       "   2/3 \n",
       "  2    \n",
       "───────\n",
       "  3 ___\n",
       "2⋅╲╱ π "
      ]
     },
     "execution_count": 3,
     "metadata": {},
     "output_type": "execute_result"
    }
   ],
   "source": [
    "r,h = sympy.symbols(\"r,h\")\n",
    "Area = 2 * sympy.pi * r**2+2 * sympy.pi * r * h\n",
    "Volume = sympy.pi * r**2 * h\n",
    "h_r = sympy.solve(Volume - 1)[0]\n",
    "Area_r = Area.subs(h_r)\n",
    "rsol = sympy.solve(Area_r.diff(r))[0]\n",
    "rsol"
   ]
  },
  {
   "cell_type": "code",
   "execution_count": 4,
   "metadata": {},
   "outputs": [
    {
     "data": {
      "image/png": "[encoded data removed]",
      "text/latex": [
       "$$0.541926070139289$$"
      ],
      "text/plain": [
       "0.541926070139289"
      ]
     },
     "execution_count": 4,
     "metadata": {},
     "output_type": "execute_result"
    }
   ],
   "source": [
    "_.evalf()#数值化"
   ]
  },
  {
   "cell_type": "code",
   "execution_count": 5,
   "metadata": {},
   "outputs": [
    {
     "ename": "NameError",
     "evalue": "name 'subs' is not defined",
     "output_type": "error",
     "traceback": [
      "\u001b[0;31m---------------------------------------------------------------------------\u001b[0m",
      "\u001b[0;31mNameError\u001b[0m                                 Traceback (most recent call last)",
      "\u001b[0;32m<ipython-input-5-bd60c536c846>\u001b[0m in \u001b[0;36m<module>\u001b[0;34m\u001b[0m\n\u001b[0;32m----> 1\u001b[0;31m \u001b[0mhelp\u001b[0m\u001b[0;34m(\u001b[0m\u001b[0msubs\u001b[0m\u001b[0;34m)\u001b[0m\u001b[0;34m\u001b[0m\u001b[0;34m\u001b[0m\u001b[0m\n\u001b[0m",
      "\u001b[0;31mNameError\u001b[0m: name 'subs' is not defined"
     ]
    }
   ],
   "source": [
    "help(subs)\n"
   ]
  },
  {
   "cell_type": "code",
   "execution_count": 6,
   "metadata": {},
   "outputs": [
    {
     "data": {
      "image/png": "[encoded data removed]",
      "text/latex": [
       "$$\\left [ \\frac{2^{\\frac{2}{3}}}{2 \\sqrt[3]{\\pi}}, \\quad - \\frac{2^{\\frac{2}{3}}}{4 \\sqrt[3]{\\pi}} - \\frac{2^{\\frac{2}{3}} \\sqrt{3} i}{4 \\sqrt[3]{\\pi}}, \\quad - \\frac{2^{\\frac{2}{3}}}{4 \\sqrt[3]{\\pi}} + \\frac{2^{\\frac{2}{3}} \\sqrt{3} i}{4 \\sqrt[3]{\\pi}}\\right ]$$"
      ],
      "text/plain": [
       "⎡   2/3        2/3     2/3            2/3     2/3     ⎤\n",
       "⎢  2          2       2   ⋅√3⋅ⅈ      2       2   ⋅√3⋅ⅈ⎥\n",
       "⎢───────, - ─────── - ─────────, - ─────── + ─────────⎥\n",
       "⎢  3 ___      3 ___      3 ___       3 ___      3 ___ ⎥\n",
       "⎣2⋅╲╱ π     4⋅╲╱ π     4⋅╲╱ π      4⋅╲╱ π     4⋅╲╱ π  ⎦"
      ]
     },
     "execution_count": 6,
     "metadata": {},
     "output_type": "execute_result"
    }
   ],
   "source": [
    "sympy.solve(Area_r.diff(r))"
   ]
  },
  {
   "cell_type": "code",
   "execution_count": 7,
   "metadata": {},
   "outputs": [
    {
     "data": {
      "image/png": "[encoded data removed]",
      "text/latex": [
       "$$0.541926077256$$"
      ],
      "text/plain": [
       "0.54192607725571351"
      ]
     },
     "execution_count": 7,
     "metadata": {},
     "output_type": "execute_result"
    }
   ],
   "source": [
    "def f(r):\n",
    "    return 2 * np.pi * r**2 + 2 / r\n",
    "r_min = optimize.brent(f,brack=(0.1,4))\n",
    "r_min"
   ]
  },
  {
   "cell_type": "code",
   "execution_count": 8,
   "metadata": {},
   "outputs": [
    {
     "data": {
      "image/png": "[encoded data removed]",
      "text/latex": [
       "$$5.53581044593$$"
      ],
      "text/plain": [
       "5.5358104459320856"
      ]
     },
     "execution_count": 8,
     "metadata": {},
     "output_type": "execute_result"
    }
   ],
   "source": [
    "f(r_min)"
   ]
  },
  {
   "cell_type": "code",
   "execution_count": 14,
   "metadata": {},
   "outputs": [
    {
     "data": {
      "text/plain": [
       "<matplotlib.lines.Line2D at 0x7f641bdb1630>"
      ]
     },
     "execution_count": 14,
     "metadata": {},
     "output_type": "execute_result"
    },
    {
     "data": {
      "image/png": "[encoded data removed]",
      "text/plain": [
       "<Figure size 432x288 with 1 Axes>"
      ]
     },
     "metadata": {
      "needs_background": "light"
     },
     "output_type": "display_data"
    }
   ],
   "source": [
    "def f(r):\n",
    "    return 2 * np.pi * r**2 + 2 / r\n",
    "r_min = optimize.brent(f,brack=(0.1,4))\n",
    "x=np.arange(0.01,10.0,0.01)\n",
    "y=f(x)\n",
    "plt.plot(x,y)\n",
    "plt.axvline(r_min,color='r')"
   ]
  },
  {
   "cell_type": "code",
   "execution_count": 18,
   "metadata": {},
   "outputs": [
    {
     "data": {
      "text/plain": [
       "[<matplotlib.lines.Line2D at 0x7f641bb55240>]"
      ]
     },
     "execution_count": 18,
     "metadata": {},
     "output_type": "execute_result"
    },
    {
     "data": {
      "image/png": "[encoded data removed]",
      "text/plain": [
       "<Figure size 432x288 with 1 Axes>"
      ]
     },
     "metadata": {
      "needs_background": "light"
     },
     "output_type": "display_data"
    }
   ],
   "source": [
    "beta = (0.25,0.75,0.5)\n",
    "def f(x,b0,b1,b2):\n",
    "    return b0 + b1 * np.exp(-b2 * x**2)\n",
    "xdata = np.linspace(0,5,50)\n",
    "y = f(xdata,*beta)\n",
    "ydata = y + 0.05 * np.random.randn(len(xdata))\n",
    "plt.scatter(xdata,ydata)\n",
    "plt.plot(xdata,y)"
   ]
  },
  {
   "cell_type": "code",
   "execution_count": null,
   "metadata": {},
   "outputs": [],
   "source": []
  }
 ],
 "metadata": {
  "kernelspec": {
   "display_name": "Python 3",
   "language": "python",
   "name": "python3"
  },
  "language_info": {
   "codemirror_mode": {
    "name": "ipython",
    "version": 3
   },
   "file_extension": ".py",
   "mimetype": "text/x-python",
   "name": "python",
   "nbconvert_exporter": "python",
   "pygments_lexer": "ipython3",
   "version": "3.6.7"
  }
 },
 "nbformat": 4,
 "nbformat_minor": 2
}
